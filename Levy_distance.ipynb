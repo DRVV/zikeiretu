{
 "cells": [
  {
   "cell_type": "markdown",
   "metadata": {},
   "source": [
    "Levy metric as time series distance.\n",
    "\n",
    "This notebook tries to \n",
    "\n",
    "1. show naive implementation Levy metric\n",
    "\n",
    "1. show **Levy metric is sensitive to shift difference**, compared to other famous metrics (KL, W-distance)\n",
    " -> suggests Levy metric be useful in training time forcasting model"
   ]
  },
  {
   "cell_type": "markdown",
   "metadata": {},
   "source": [
    "# 1. Implementation of Levy metric"
   ]
  },
  {
   "cell_type": "markdown",
   "metadata": {},
   "source": [
    "## Definition"
   ]
  },
  {
   "cell_type": "markdown",
   "metadata": {},
   "source": [
    "  $$Levy(F, G) = \\inf_\\epsilon  [\\epsilon > 0 | \\forall x \\in D, F(x-\\epsilon) - \\epsilon \\leq G(x) \\leq F(x+\\epsilon) + \\epsilon] $$\n",
    "  where $x \\in \\mathbb{R}$, $D$ is the shared domain of the functions $F, G$."
   ]
  },
  {
   "cell_type": "markdown",
   "metadata": {},
   "source": [
    "In what follows we assume $D$ is _finite_.  More specifically, we assume $D$ is 1D _lattice_."
   ]
  },
  {
   "cell_type": "markdown",
   "metadata": {},
   "source": [
    "## Numerical implementation"
   ]
  },
  {
   "cell_type": "code",
   "execution_count": 53,
   "metadata": {},
   "outputs": [],
   "source": [
    "def get_epsln_candidate(F, G, domain, epsln_candidate):\n",
    "    epsln_list = []\n",
    "    \n",
    "    for epsln in epsln_candidate:\n",
    "        cond = [(F(x - epsln) -epsln <= G(x)) and  (G(x) <= F(x + epsln) + epsln) for x in domain]\n",
    "        if all(cond):\n",
    "            epsln_list.append(epsln)\n",
    "    \n",
    "    return epsln_list"
   ]
  },
  {
   "cell_type": "code",
   "execution_count": 54,
   "metadata": {},
   "outputs": [],
   "source": [
    "def Levy(F, G, domain, epsln_candidate):\n",
    "    return get_epsln_candidate(F, G, domain, epsln_candidate)"
   ]
  },
  {
   "cell_type": "markdown",
   "metadata": {},
   "source": [
    "# 2. Sensitivity to time shift (comparison to other metrics)"
   ]
  },
  {
   "cell_type": "markdown",
   "metadata": {},
   "source": [
    "## test functions"
   ]
  },
  {
   "cell_type": "code",
   "execution_count": 4,
   "metadata": {},
   "outputs": [],
   "source": [
    "import scipy\n",
    "import scipy.special"
   ]
  },
  {
   "cell_type": "code",
   "execution_count": 5,
   "metadata": {},
   "outputs": [],
   "source": [
    "F = lambda z: scipy.special.erf(z) + 1\n",
    "shift = 3\n",
    "G = lambda z: scipy.special.erf(z - shift) + 1\n",
    "\n",
    "def GG(shift):\n",
    "    return lambda z: F(z-shift)"
   ]
  },
  {
   "cell_type": "code",
   "execution_count": 6,
   "metadata": {},
   "outputs": [],
   "source": [
    "import matplotlib.pyplot as plt"
   ]
  },
  {
   "cell_type": "code",
   "execution_count": 7,
   "metadata": {},
   "outputs": [],
   "source": [
    "import numpy"
   ]
  },
  {
   "cell_type": "code",
   "execution_count": 8,
   "metadata": {},
   "outputs": [],
   "source": [
    "domain = numpy.linspace(-7, 7, 100)"
   ]
  },
  {
   "cell_type": "code",
   "execution_count": 40,
   "metadata": {},
   "outputs": [
    {
     "data": {
      "image/png": "[encoded data removed]",
      "text/plain": [
       "<matplotlib.figure.Figure at 0x7f8699c23160>"
      ]
     },
     "metadata": {},
     "output_type": "display_data"
    }
   ],
   "source": [
    "plt.plot(domain, F(domain))\n",
    "plt.plot(domain, GG(1)(domain))\n",
    "plt.show()"
   ]
  },
  {
   "cell_type": "code",
   "execution_count": 49,
   "metadata": {},
   "outputs": [],
   "source": [
    "epsln_candidate = numpy.arange(0, 5, 0.001)"
   ]
  },
  {
   "cell_type": "markdown",
   "metadata": {},
   "source": [
    "## Other metrics"
   ]
  },
  {
   "cell_type": "markdown",
   "metadata": {},
   "source": [
    "### KL"
   ]
  },
  {
   "cell_type": "code",
   "execution_count": 27,
   "metadata": {},
   "outputs": [],
   "source": [
    "import scipy.stats"
   ]
  },
  {
   "cell_type": "code",
   "execution_count": 28,
   "metadata": {},
   "outputs": [],
   "source": [
    "f = scipy.stats.norm.pdf\n",
    "\n",
    "def gg(shift):\n",
    "    return lambda x: f(x - shift)\n",
    "\n",
    "def KL(f, g, domain):\n",
    "    return sum([scipy.special.kl_div(f(x), g(x)) for x in domain])"
   ]
  },
  {
   "cell_type": "markdown",
   "metadata": {},
   "source": [
    "### Wasserstein (for temporal point process)"
   ]
  },
  {
   "cell_type": "code",
   "execution_count": 70,
   "metadata": {},
   "outputs": [],
   "source": [
    "def W_dist(F, G, domain):\n",
    "    domain = numpy.array(domain)\n",
    "    return (abs(F(domain) - G(domain))).sum()\n",
    "    "
   ]
  },
  {
   "cell_type": "markdown",
   "metadata": {},
   "source": [
    "## Comparison"
   ]
  },
  {
   "cell_type": "code",
   "execution_count": 85,
   "metadata": {},
   "outputs": [],
   "source": [
    "p_domain= domain[domain>=0] # positive domain"
   ]
  },
  {
   "cell_type": "code",
   "execution_count": 58,
   "metadata": {},
   "outputs": [],
   "source": [
    "kls = []\n",
    "lvs = []\n",
    "for i in p_domain:\n",
    "    kls.append(KL(f, gg(i), domain))\n",
    "    lvs.append(min(Levy(F, GG(i), domain, epsln_candidate)))"
   ]
  },
  {
   "cell_type": "code",
   "execution_count": 78,
   "metadata": {},
   "outputs": [],
   "source": [
    "wd = []\n",
    "for i in p_domain:\n",
    "    wd.append(W_dist(F, GG(i), domain))"
   ]
  },
  {
   "cell_type": "markdown",
   "metadata": {},
   "source": [
    "### scaled comparison"
   ]
  },
  {
   "cell_type": "code",
   "execution_count": 80,
   "metadata": {},
   "outputs": [
    {
     "data": {
      "image/png": "[encoded data removed]",
      "text/plain": [
       "<matplotlib.figure.Figure at 0x7f8699a9de80>"
      ]
     },
     "metadata": {},
     "output_type": "display_data"
    }
   ],
   "source": [
    "plt.xlabel='Shift'\n",
    "plt.plot(p_domain, kls/max(kls), label='KL')\n",
    "plt.plot(p_domain, lvs/max(lvs), label='levy')\n",
    "plt.plot(p_domain, wd/max(wd), label='W')\n",
    "plt.legend()\n",
    "\n",
    "plt.show()"
   ]
  },
  {
   "cell_type": "markdown",
   "metadata": {},
   "source": [
    "### without scaling"
   ]
  },
  {
   "cell_type": "code",
   "execution_count": 84,
   "metadata": {},
   "outputs": [
    {
     "data": {
      "image/png": "[encoded data removed]",
      "text/plain": [
       "<matplotlib.figure.Figure at 0x7f8699a9def0>"
      ]
     },
     "metadata": {},
     "output_type": "display_data"
    }
   ],
   "source": [
    "plt.xlabel='Shift'\n",
    "plt.plot(p_domain, kls, label='KL')\n",
    "plt.plot(p_domain, lvs, label='levy')\n",
    "plt.plot(p_domain, wd, label='W')\n",
    "plt.legend()\n",
    "\n",
    "plt.show()"
   ]
  },
  {
   "cell_type": "code",
   "execution_count": null,
   "metadata": {},
   "outputs": [],
   "source": []
  }
 ],
 "metadata": {
  "kernelspec": {
   "display_name": "Python 3",
   "language": "python",
   "name": "python3"
  },
  "language_info": {
   "codemirror_mode": {
    "name": "ipython",
    "version": 3
   },
   "file_extension": ".py",
   "mimetype": "text/x-python",
   "name": "python",
   "nbconvert_exporter": "python",
   "pygments_lexer": "ipython3",
   "version": "3.5.2"
  }
 },
 "nbformat": 4,
 "nbformat_minor": 2
}
